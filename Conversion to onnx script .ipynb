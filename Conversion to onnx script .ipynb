{
 "cells": [
  {
   "cell_type": "code",
   "execution_count": 4,
   "id": "73db1905",
   "metadata": {},
   "outputs": [],
   "source": [
    "import tensorflow as tf\n",
    "import onnx\n",
    "import tf2onnx\n",
    "\n",
    "from tensorflow.keras.models import load_model\n",
    "\n",
    "# Load the Keras model from the H5 file\n",
    "keras_model_path = 'model3.3.h5'\n",
    "model = load_model(keras_model_path)\n",
    "\n",
    "# Convert the Keras model to ONNX format\n",
    "onnx_model_path = 'model3.31.onnx'\n",
    "\n",
    "model_proto, _ = tf2onnx.convert.from_keras(\n",
    "    model,\n",
    "    opset=13\n",
    ")\n",
    "\n",
    "# Save the ONNX model to a file\n",
    "with open(onnx_model_path, \"wb\") as f:\n",
    "    f.write(model_proto.SerializeToString())\n"
   ]
  },
  {
   "cell_type": "code",
   "execution_count": null,
   "id": "62385a23",
   "metadata": {},
   "outputs": [],
   "source": []
  }
 ],
 "metadata": {
  "kernelspec": {
   "display_name": "convEnv",
   "language": "python",
   "name": "convenv"
  },
  "language_info": {
   "codemirror_mode": {
    "name": "ipython",
    "version": 3
   },
   "file_extension": ".py",
   "mimetype": "text/x-python",
   "name": "python",
   "nbconvert_exporter": "python",
   "pygments_lexer": "ipython3",
   "version": "3.9.7"
  }
 },
 "nbformat": 4,
 "nbformat_minor": 5
}
